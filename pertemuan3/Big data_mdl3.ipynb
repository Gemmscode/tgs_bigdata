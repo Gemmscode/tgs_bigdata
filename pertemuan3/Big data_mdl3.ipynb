{
 "cells": [
  {
   "cell_type": "code",
   "execution_count": 1,
   "id": "31f7515f-1887-4aa5-a6f1-f3532ed213d2",
   "metadata": {},
   "outputs": [],
   "source": [
    "def map_function(text):\n",
    "    for word in text.split():\n",
    "        yield (word, 1)"
   ]
  },
  {
   "cell_type": "code",
   "execution_count": 2,
   "id": "8f3fd2e9-83f1-45a6-b715-ae4b13043c40",
   "metadata": {},
   "outputs": [],
   "source": [
    "from collections import defaultdict\n",
    "\n",
    "def reduce_function(pairs):\n",
    "    result = defaultdict(int)\n",
    "    for word, count in pairs:\n",
    "        result[word] += count\n",
    "    return result"
   ]
  },
  {
   "cell_type": "code",
   "execution_count": 8,
   "id": "9bf77f97-2855-4500-a190-b0f124067c4a",
   "metadata": {},
   "outputs": [
    {
     "name": "stdout",
     "output_type": "stream",
     "text": [
      "selamat: 2\n",
      "pagi: 1\n",
      "dunia: 2\n",
      "datang: 1\n",
      "di: 1\n",
      "pemrograman: 1\n",
      "sore: 1\n",
      "ini: 1\n",
      "suram: 1\n"
     ]
    }
   ],
   "source": [
    "# Map function: Fungsi yang memecah teks menjadi kata-kata individual\n",
    "def map_function(text):\n",
    "    for word in text.split():\n",
    "        yield (word.lower(), 1)  # Memecah kata dan mengubahnya ke huruf kecil\n",
    "\n",
    "# Reduce function: Fungsi yang menggabungkan hasil dari fase Map untuk menghitung frekuensi kata\n",
    "from collections import defaultdict\n",
    "\n",
    "def reduce_function(pairs):\n",
    "    result = defaultdict(int)\n",
    "    for word, count in pairs:\n",
    "        result[word] += count  # Menambahkan frekuensi kata\n",
    "    return result\n",
    "\n",
    "# Dataset teks sederhana\n",
    "dataset = [\n",
    "    \"Selamat pagi dunia\",\n",
    "    \"Selamat datang di dunia pemrograman\",\n",
    "    \"Sore ini suram\"\n",
    "]\n",
    "\n",
    "# Tahap Map: Memecah setiap teks dalam dataset menjadi kata-kata\n",
    "mapped_data = []\n",
    "for text in dataset:\n",
    "    mapped_data.extend(map_function(text))\n",
    "\n",
    "# Tahap Reduce: Menggabungkan hasil Map untuk menghitung frekuensi kata\n",
    "word_count = reduce_function(mapped_data)\n",
    "\n",
    "# Menampilkan hasil perhitungan jumlah kata ke bawah\n",
    "for word, count in word_count.items():\n",
    "    print(f\"{word}: {count}\")\n"
   ]
  },
  {
   "cell_type": "code",
   "execution_count": 3,
   "id": "52e64bee-7a8a-4c2a-af4f-935634197a3b",
   "metadata": {},
   "outputs": [
    {
     "name": "stdout",
     "output_type": "stream",
     "text": [
      "Halo, : 1\n",
      "Aku : 2\n",
      "Gema : 1\n",
      "Rizqi. : 1\n",
      "mahasiswa : 1\n",
      "di : 2\n",
      "Universitas : 2\n",
      "Tidar : 2\n",
      "yang : 2\n",
      "masuk : 1\n",
      "ke : 1\n",
      "dalam : 1\n",
      "prodi : 1\n",
      "Teknologi : 1\n",
      "Informasi. : 1\n",
      "adalah : 2\n",
      "PTN : 1\n",
      "berada : 1\n",
      "Magelang. : 1\n",
      "Magelang : 1\n",
      "kota : 2\n",
      "cukup : 1\n",
      "sejuk, : 1\n",
      "dibanding : 1\n",
      "asalku : 1\n",
      "Bekasi. : 1\n"
     ]
    }
   ],
   "source": [
    "from collections import defaultdict\n",
    "\n",
    "data = open(\"C:\\\\hadoop-3.3.6\\\\BigData3.txt\", \"r\")\n",
    "\n",
    "def map_function(text):\n",
    "       for word in text.split():\n",
    "            yield (word, 1 )\n",
    "\n",
    "def reduce_function(pairs):\n",
    "       result = defaultdict(int)\n",
    "       for word, count in pairs:\n",
    "           result[word] += count\n",
    "       return result\n",
    "\n",
    "def mapreduce_wordcount(texts):\n",
    "      map_result = []\n",
    "      for text in texts:\n",
    "            map_result.extend(map_function(text))\n",
    "      return reduce_function(map_result)\n",
    "\n",
    "mapped = mapreduce_wordcount(data)\n",
    "\n",
    "for word, count in mapped.items():\n",
    "      print(f\"{word} : {count}\")"
   ]
  },
  {
   "cell_type": "code",
   "execution_count": null,
   "id": "ff2046cc-e666-40f3-bacd-41fd79728263",
   "metadata": {},
   "outputs": [],
   "source": []
  }
 ],
 "metadata": {
  "kernelspec": {
   "display_name": "Python 3 (ipykernel)",
   "language": "python",
   "name": "python3"
  },
  "language_info": {
   "codemirror_mode": {
    "name": "ipython",
    "version": 3
   },
   "file_extension": ".py",
   "mimetype": "text/x-python",
   "name": "python",
   "nbconvert_exporter": "python",
   "pygments_lexer": "ipython3",
   "version": "3.11.9"
  }
 },
 "nbformat": 4,
 "nbformat_minor": 5
}

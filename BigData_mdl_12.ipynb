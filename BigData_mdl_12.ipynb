{
  "nbformat": 4,
  "nbformat_minor": 0,
  "metadata": {
    "colab": {
      "provenance": []
    },
    "kernelspec": {
      "name": "python3",
      "display_name": "Python 3"
    },
    "language_info": {
      "name": "python"
    }
  },
  "cells": [
    {
      "cell_type": "markdown",
      "source": [
        "#Pertemuan 12: Data Cleaning and Preparation using Pandas"
      ],
      "metadata": {
        "id": "kXPhUnLBgPcI"
      }
    },
    {
      "cell_type": "code",
      "execution_count": null,
      "metadata": {
        "colab": {
          "base_uri": "https://localhost:8080/"
        },
        "id": "kSRlD59iZ_tF",
        "outputId": "11d0ef70-1e3a-4d34-c2fc-6bb62bd8acf4"
      },
      "outputs": [
        {
          "output_type": "stream",
          "name": "stdout",
          "text": [
            "After cleaning:\n",
            "       Name    Age   Salary\n",
            "0    Alice  24.00  48000.0\n",
            "1      Bob  30.00  57000.0\n",
            "2  Charlie  27.75  57000.0\n",
            "3    David  22.00  57000.0\n"
          ]
        },
        {
          "output_type": "stream",
          "name": "stderr",
          "text": [
            "<ipython-input-1-7d141c975721>:13: FutureWarning: A value is trying to be set on a copy of a DataFrame or Series through chained assignment using an inplace method.\n",
            "The behavior will change in pandas 3.0. This inplace method will never work because the intermediate object on which we are setting values always behaves as a copy.\n",
            "\n",
            "For example, when doing 'df[col].method(value, inplace=True)', try using 'df.method({col: value}, inplace=True)' or df[col] = df[col].method(value) instead, to perform the operation inplace on the original object.\n",
            "\n",
            "\n",
            "  df['Age'].fillna(df['Age'].mean(), inplace=True)\n",
            "<ipython-input-1-7d141c975721>:14: FutureWarning: A value is trying to be set on a copy of a DataFrame or Series through chained assignment using an inplace method.\n",
            "The behavior will change in pandas 3.0. This inplace method will never work because the intermediate object on which we are setting values always behaves as a copy.\n",
            "\n",
            "For example, when doing 'df[col].method(value, inplace=True)', try using 'df.method({col: value}, inplace=True)' or df[col] = df[col].method(value) instead, to perform the operation inplace on the original object.\n",
            "\n",
            "\n",
            "  df['Salary'].fillna(df['Salary'].median(), inplace=True)\n"
          ]
        }
      ],
      "source": [
        "# Exercise 1: Identifying and Handling Missing Data\n",
        "import pandas as pd\n",
        "\n",
        "# Sample dataset with missing values\n",
        "data = {\n",
        "    'Name': ['Alice', 'Bob', 'Charlie', 'David', None],\n",
        "    'Age': [24, 30, None, 22, 35],\n",
        "    'Salary': [48000, None, 57000, None, 60000]\n",
        "}\n",
        "df = pd.DataFrame(data)\n",
        "\n",
        "# Filling missing values and dropping rows\n",
        "df['Age'].fillna(df['Age'].mean(), inplace=True)\n",
        "df['Salary'].fillna(df['Salary'].median(), inplace=True)\n",
        "df.dropna(subset=['Name'], inplace=True)\n",
        "S\n"
      ]
    },
    {
      "cell_type": "code",
      "source": [
        "# Exercise 2: Standardizing Categorical Data\n",
        "# Sample dataset with inconsistent categorical values\n",
        "data = {\n",
        "    'Product': ['Laptop', 'Laptop', 'Desktop', 'Tablet', 'Tablet'],\n",
        "    'Category': ['Electronics', 'electronics', 'Electronics', 'Gadgets', 'gadgets']\n",
        "}\n",
        "df = pd.DataFrame(data)\n",
        "\n",
        "# Standardize category values\n",
        "df['Category'] = df['Category'].str.capitalize()\n",
        "print('Standardized Data:\\n', df)\n"
      ],
      "metadata": {
        "colab": {
          "base_uri": "https://localhost:8080/"
        },
        "id": "1igMAPjAgR7j",
        "outputId": "9fc37f3c-b2c9-4905-9de3-4cc7c6384798"
      },
      "execution_count": null,
      "outputs": [
        {
          "output_type": "stream",
          "name": "stdout",
          "text": [
            "Standardized Data:\n",
            "    Product     Category\n",
            "0   Laptop  Electronics\n",
            "1   Laptop  Electronics\n",
            "2  Desktop  Electronics\n",
            "3   Tablet      Gadgets\n",
            "4   Tablet      Gadgets\n"
          ]
        }
      ]
    },
    {
      "cell_type": "markdown",
      "source": [
        "## Practice Tasks\n",
        "- Load a dataset of your choice and identify missing values.\n",
        "- Implement data transformations to normalize numerical columns.\n",
        "- Standardize categorical columns and remove duplicates."
      ],
      "metadata": {
        "id": "lMK4KqAEhA5_"
      }
    },
    {
      "cell_type": "code",
      "source": [
        "import pandas as pd\n",
        "\n",
        "data_kerja = {\n",
        "    'ID': [1, 2, 3, 4, 5, 6, 7, 8, 9, 10, 2, 8],\n",
        "    'Name': ['Gema', 'Adam', 'Resnu', 'Santoso', 'Fadhilla',\n",
        "             'Zharifa', 'Prasetya', 'Agus', 'Fitri', 'Hendra', 'Adam', 'Agus'],\n",
        "    'Age': [29, 34, 27, None, 31, 40, 22, 45, None, 28, 34, 45],\n",
        "    'Salary': [15000, 20000, None, 18000, 25000, 30000,\n",
        "               12000, None, 10000, 16000, 20000, None],\n",
        "    'Job': ['TI', None, 'Ti', 'Bussinessman', 'Manager', None, 'Ti', 'Manager', 'TI', 'Ti', None, 'Manager']\n",
        "}\n",
        "df = pd.DataFrame(data_kerja)\n",
        "print('Data Gaji Penduduk :', '\\n' ,df, '\\n')\n",
        "\n",
        "print('Data yang hilang :')\n",
        "print(df.isnull().sum(), '\\n')\n",
        "\n",
        "# Perbaikan Data\n",
        "df['Age'].fillna(df['Age'].mean(), inplace=True)\n",
        "df['Salary'].fillna(df['Salary'].median(), inplace=True)\n",
        "df['Job'] = df['Job'].str.lower()\n",
        "df.dropna(subset=['Name'], inplace=True)\n",
        "print('Data Setelah Perbaikan :')\n",
        "print(df)\n",
        "\n",
        "# Penghapusan data Duplikat\n",
        "df.drop_duplicates(inplace=True)\n",
        "\n",
        "print('After cleaning:\\n', df)\n",
        "\n"
      ],
      "metadata": {
        "colab": {
          "base_uri": "https://localhost:8080/"
        },
        "id": "VSOf2iAvgys7",
        "outputId": "800b0d25-5ff7-4447-f0c2-fa8e71959cbb"
      },
      "execution_count": null,
      "outputs": [
        {
          "output_type": "stream",
          "name": "stdout",
          "text": [
            "Data Gaji Penduduk : \n",
            "     ID      Name   Age   Salary           Job\n",
            "0    1      Gema  29.0  15000.0            TI\n",
            "1    2      Adam  34.0  20000.0          None\n",
            "2    3     Resnu  27.0      NaN            Ti\n",
            "3    4   Santoso   NaN  18000.0  Bussinessman\n",
            "4    5  Fadhilla  31.0  25000.0       Manager\n",
            "5    6   Zharifa  40.0  30000.0          None\n",
            "6    7  Prasetya  22.0  12000.0            Ti\n",
            "7    8      Agus  45.0      NaN       Manager\n",
            "8    9     Fitri   NaN  10000.0            TI\n",
            "9   10    Hendra  28.0  16000.0            Ti\n",
            "10   2      Adam  34.0  20000.0          None\n",
            "11   8      Agus  45.0      NaN       Manager \n",
            "\n",
            "Data yang hilang :\n",
            "ID        0\n",
            "Name      0\n",
            "Age       2\n",
            "Salary    3\n",
            "Job       3\n",
            "dtype: int64 \n",
            "\n",
            "Data Setelah Perbaikan :\n",
            "    ID      Name   Age   Salary           Job\n",
            "0    1      Gema  29.0  15000.0            ti\n",
            "1    2      Adam  34.0  20000.0          None\n",
            "2    3     Resnu  27.0  18000.0            ti\n",
            "3    4   Santoso  33.5  18000.0  bussinessman\n",
            "4    5  Fadhilla  31.0  25000.0       manager\n",
            "5    6   Zharifa  40.0  30000.0          None\n",
            "6    7  Prasetya  22.0  12000.0            ti\n",
            "7    8      Agus  45.0  18000.0       manager\n",
            "8    9     Fitri  33.5  10000.0            ti\n",
            "9   10    Hendra  28.0  16000.0            ti\n",
            "10   2      Adam  34.0  20000.0          None\n",
            "11   8      Agus  45.0  18000.0       manager\n",
            "After cleaning:\n",
            "    ID      Name   Age   Salary           Job\n",
            "0   1      Gema  29.0  15000.0            ti\n",
            "1   2      Adam  34.0  20000.0          None\n",
            "2   3     Resnu  27.0  18000.0            ti\n",
            "3   4   Santoso  33.5  18000.0  bussinessman\n",
            "4   5  Fadhilla  31.0  25000.0       manager\n",
            "5   6   Zharifa  40.0  30000.0          None\n",
            "6   7  Prasetya  22.0  12000.0            ti\n",
            "7   8      Agus  45.0  18000.0       manager\n",
            "8   9     Fitri  33.5  10000.0            ti\n",
            "9  10    Hendra  28.0  16000.0            ti\n"
          ]
        },
        {
          "output_type": "stream",
          "name": "stderr",
          "text": [
            "<ipython-input-1-059dfee27286>:19: FutureWarning: A value is trying to be set on a copy of a DataFrame or Series through chained assignment using an inplace method.\n",
            "The behavior will change in pandas 3.0. This inplace method will never work because the intermediate object on which we are setting values always behaves as a copy.\n",
            "\n",
            "For example, when doing 'df[col].method(value, inplace=True)', try using 'df.method({col: value}, inplace=True)' or df[col] = df[col].method(value) instead, to perform the operation inplace on the original object.\n",
            "\n",
            "\n",
            "  df['Age'].fillna(df['Age'].mean(), inplace=True)\n",
            "<ipython-input-1-059dfee27286>:20: FutureWarning: A value is trying to be set on a copy of a DataFrame or Series through chained assignment using an inplace method.\n",
            "The behavior will change in pandas 3.0. This inplace method will never work because the intermediate object on which we are setting values always behaves as a copy.\n",
            "\n",
            "For example, when doing 'df[col].method(value, inplace=True)', try using 'df.method({col: value}, inplace=True)' or df[col] = df[col].method(value) instead, to perform the operation inplace on the original object.\n",
            "\n",
            "\n",
            "  df['Salary'].fillna(df['Salary'].median(), inplace=True)\n"
          ]
        }
      ]
    },
    {
      "cell_type": "markdown",
      "source": [
        "## HomeWork 12\n",
        "- Pertemuan 12: Clean a real-world dataset (from Kaggle or another source), perform normalization, handle outliers, and prepare the data for analysis."
      ],
      "metadata": {
        "id": "HQJLJ3eTG1_-"
      }
    },
    {
      "cell_type": "code",
      "source": [
        "import pandas as pd\n",
        "\n",
        "# Load the Titanic dataset\n",
        "df = pd.read_csv('Titanic.csv')\n",
        "\n",
        "# Display the first few rows of the dataset\n",
        "print('Data Before Cleaning :')\n",
        "print(df.head(), '\\n')\n",
        "\n",
        "# Missing Values\n",
        "print(\"Missing values before cleaning :\")\n",
        "print(df.isnull().sum())\n",
        "\n",
        "\n",
        "# perbaikan data\n",
        "df['Age'].fillna(df['Age'].mean(), inplace=True)\n",
        "df['Fare'].fillna(df['Fare'].median(), inplace=True)\n",
        "df['Embarked'].fillna(df['Embarked'].mode()[0], inplace=True)\n",
        "df['Sex'] = df['Sex'].str.lower()\n",
        "df.dropna(subset=['Name'], inplace=True)\n",
        "\n",
        "# 6. Drop columns that are not useful for analysis (e.g., Ticket, Cabin, PassengerId)\n",
        "df.drop(columns=['Ticket', 'Cabin', 'PassengerId'], inplace=True)\n",
        "\n",
        "# Display the cleaned dataframe\n",
        "print(\"\\nCleaned DataFrame:\")\n",
        "print(df.head())\n",
        "\n",
        "# 7. Check for any remaining missing values\n",
        "print(\"\\nMissing values after cleaning:\")\n",
        "print(df.isnull().sum(),'\\n')\n",
        "\n",
        "\n",
        "\n",
        "\n",
        "\n"
      ],
      "metadata": {
        "colab": {
          "base_uri": "https://localhost:8080/"
        },
        "id": "FfzUZsPo3W18",
        "outputId": "c27bc10e-2ae9-4677-93eb-23da81eead16"
      },
      "execution_count": null,
      "outputs": [
        {
          "output_type": "stream",
          "name": "stdout",
          "text": [
            "Data Before Cleaning :\n",
            "   PassengerId  Survived  Pclass  \\\n",
            "0          892         0       3   \n",
            "1          893         1       3   \n",
            "2          894         0       2   \n",
            "3          895         0       3   \n",
            "4          896         1       3   \n",
            "\n",
            "                                           Name     Sex   Age  SibSp  Parch  \\\n",
            "0                              Kelly, Mr. James    male  34.5      0      0   \n",
            "1              Wilkes, Mrs. James (Ellen Needs)  female  47.0      1      0   \n",
            "2                     Myles, Mr. Thomas Francis    male  62.0      0      0   \n",
            "3                              Wirz, Mr. Albert    male  27.0      0      0   \n",
            "4  Hirvonen, Mrs. Alexander (Helga E Lindqvist)  female  22.0      1      1   \n",
            "\n",
            "    Ticket     Fare Cabin Embarked  \n",
            "0   330911   7.8292   NaN        Q  \n",
            "1   363272   7.0000   NaN        S  \n",
            "2   240276   9.6875   NaN        Q  \n",
            "3   315154   8.6625   NaN        S  \n",
            "4  3101298  12.2875   NaN        S   \n",
            "\n",
            "Missing values before cleaning :\n",
            "PassengerId      0\n",
            "Survived         0\n",
            "Pclass           0\n",
            "Name             0\n",
            "Sex              0\n",
            "Age             86\n",
            "SibSp            0\n",
            "Parch            0\n",
            "Ticket           0\n",
            "Fare             1\n",
            "Cabin          327\n",
            "Embarked         0\n",
            "dtype: int64\n",
            "\n",
            "Cleaned DataFrame:\n",
            "   Survived  Pclass                                          Name     Sex  \\\n",
            "0         0       3                              Kelly, Mr. James    male   \n",
            "1         1       3              Wilkes, Mrs. James (Ellen Needs)  female   \n",
            "2         0       2                     Myles, Mr. Thomas Francis    male   \n",
            "3         0       3                              Wirz, Mr. Albert    male   \n",
            "4         1       3  Hirvonen, Mrs. Alexander (Helga E Lindqvist)  female   \n",
            "\n",
            "    Age  SibSp  Parch     Fare Embarked  \n",
            "0  34.5      0      0   7.8292        Q  \n",
            "1  47.0      1      0   7.0000        S  \n",
            "2  62.0      0      0   9.6875        Q  \n",
            "3  27.0      0      0   8.6625        S  \n",
            "4  22.0      1      1  12.2875        S  \n",
            "\n",
            "Missing values after cleaning:\n",
            "Survived    0\n",
            "Pclass      0\n",
            "Name        0\n",
            "Sex         0\n",
            "Age         0\n",
            "SibSp       0\n",
            "Parch       0\n",
            "Fare        0\n",
            "Embarked    0\n",
            "dtype: int64 \n",
            "\n"
          ]
        },
        {
          "output_type": "stream",
          "name": "stderr",
          "text": [
            "<ipython-input-29-4f96a3a10e72>:16: FutureWarning: A value is trying to be set on a copy of a DataFrame or Series through chained assignment using an inplace method.\n",
            "The behavior will change in pandas 3.0. This inplace method will never work because the intermediate object on which we are setting values always behaves as a copy.\n",
            "\n",
            "For example, when doing 'df[col].method(value, inplace=True)', try using 'df.method({col: value}, inplace=True)' or df[col] = df[col].method(value) instead, to perform the operation inplace on the original object.\n",
            "\n",
            "\n",
            "  df['Age'].fillna(df['Age'].mean(), inplace=True)\n",
            "<ipython-input-29-4f96a3a10e72>:17: FutureWarning: A value is trying to be set on a copy of a DataFrame or Series through chained assignment using an inplace method.\n",
            "The behavior will change in pandas 3.0. This inplace method will never work because the intermediate object on which we are setting values always behaves as a copy.\n",
            "\n",
            "For example, when doing 'df[col].method(value, inplace=True)', try using 'df.method({col: value}, inplace=True)' or df[col] = df[col].method(value) instead, to perform the operation inplace on the original object.\n",
            "\n",
            "\n",
            "  df['Fare'].fillna(df['Fare'].median(), inplace=True)\n",
            "<ipython-input-29-4f96a3a10e72>:18: FutureWarning: A value is trying to be set on a copy of a DataFrame or Series through chained assignment using an inplace method.\n",
            "The behavior will change in pandas 3.0. This inplace method will never work because the intermediate object on which we are setting values always behaves as a copy.\n",
            "\n",
            "For example, when doing 'df[col].method(value, inplace=True)', try using 'df.method({col: value}, inplace=True)' or df[col] = df[col].method(value) instead, to perform the operation inplace on the original object.\n",
            "\n",
            "\n",
            "  df['Embarked'].fillna(df['Embarked'].mode()[0], inplace=True)\n"
          ]
        }
      ]
    },
    {
      "cell_type": "code",
      "source": [],
      "metadata": {
        "id": "YIamiXWaW4ia"
      },
      "execution_count": null,
      "outputs": []
    }
  ]
}
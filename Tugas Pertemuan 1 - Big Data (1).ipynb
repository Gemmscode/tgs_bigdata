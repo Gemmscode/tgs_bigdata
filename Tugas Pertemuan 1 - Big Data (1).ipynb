{
 "cells": [
  {
   "cell_type": "markdown",
   "id": "4f2674b9-8bc8-4c2c-8c06-2b93619d4b8a",
   "metadata": {},
   "source": [
    "# Tugas Pertemuan 1 - Big Data"
   ]
  },
  {
   "cell_type": "markdown",
   "id": "2b349e7e-254f-4ca1-98b1-3e8c39cb48cc",
   "metadata": {},
   "source": [
    "## Gema Rizqi Mulia Akbar\n",
    "## 2310506008_Rombel 1"
   ]
  },
  {
   "cell_type": "markdown",
   "id": "9e9a0a85-9906-435d-92b4-ed8966ea2354",
   "metadata": {},
   "source": [
    "### 1. Praktik Pyspark"
   ]
  },
  {
   "cell_type": "code",
   "execution_count": 4,
   "id": "b6daf513-7950-4eb6-8776-6f8a21bc5238",
   "metadata": {},
   "outputs": [],
   "source": [
    "import findspark\n",
    "findspark.init()"
   ]
  },
  {
   "cell_type": "code",
   "execution_count": 7,
   "id": "b19019fa-eddb-4651-a4b1-0281bf6ea175",
   "metadata": {
    "scrolled": true
   },
   "outputs": [
    {
     "name": "stdout",
     "output_type": "stream",
     "text": [
      "+-----+----+------+---------+------------+\n",
      "| Nama|Usia|Gender|     Hobi|   Pekerjaan|\n",
      "+-----+----+------+---------+------------+\n",
      "| Gema|  19|  Pria|Badminton|   Bos besar|\n",
      "|Akbar|  12|  Pria| Berenang|    Presiden|\n",
      "| Adam|  28|  Pria| Billiard|Atlet Sukses|\n",
      "|  Ica|  37|Wanita|   Menari|  Programmer|\n",
      "+-----+----+------+---------+------------+\n",
      "\n"
     ]
    }
   ],
   "source": [
    "findspark.init()\n",
    "from pyspark.sql import SparkSession\n",
    "\n",
    "# Memulai Spark session\n",
    "spark = SparkSession.builder.appName(\"BigDataPractice\").getOrCreate()\n",
    "\n",
    "# Membuat DataFrame sederhana\n",
    "data = [(\"Gema\", 19, \"Pria\", \"Badminton\", \"Bos besar\"), (\"Akbar\", 12, \"Pria\", \"Berenang\", \"Presiden\"), (\"Adam\", 28, \"Pria\", \"Billiard\", \"Atlet Sukses\"), (\"Ica\", 37, \"Wanita\", \"Menari\", \"Programmer\"),]\n",
    "columns = [\"Nama\", \"Usia\", \"Gender\", \"Hobi\", \"Pekerjaan\"]\n",
    "df = spark.createDataFrame(data, columns)\n",
    "\n",
    "# Menampilkan DataFrame\n",
    "df.show()"
   ]
  },
  {
   "cell_type": "markdown",
   "id": "8e86dd77-745b-471f-a90f-16c6af19740b",
   "metadata": {},
   "source": [
    "### 2. Praktik Pyspark Lanjutan"
   ]
  },
  {
   "cell_type": "code",
   "execution_count": 3,
   "id": "e844b316-e9cd-4eb3-b23c-af0b36134508",
   "metadata": {},
   "outputs": [
    {
     "name": "stdout",
     "output_type": "stream",
     "text": [
      "+-----+----+------+---------+------------+\n",
      "| Nama|Usia|Gender|     Hobi|   Pekerjaan|\n",
      "+-----+----+------+---------+------------+\n",
      "| Gema|  19|  Pria|Badminton|   Bos besar|\n",
      "|Akbar|  12|  Pria| Berenang|    Presiden|\n",
      "| Adam|  28|  Pria| Billiard|Atlet Sukses|\n",
      "|  Ica|  37|Wanita|   Menari|  Programmer|\n",
      "+-----+----+------+---------+------------+\n",
      "\n",
      "+----+----+------+------+----------+\n",
      "|Nama|Usia|Gender|  Hobi| Pekerjaan|\n",
      "+----+----+------+------+----------+\n",
      "| Ica|  37|Wanita|Menari|Programmer|\n",
      "+----+----+------+------+----------+\n",
      "\n",
      "+---------+\n",
      "|avg(Usia)|\n",
      "+---------+\n",
      "|     24.0|\n",
      "+---------+\n",
      "\n",
      "+-----+----+------+---------+------------+\n",
      "| Nama|Usia|Gender|     Hobi|   Pekerjaan|\n",
      "+-----+----+------+---------+------------+\n",
      "|Akbar|  12|  Pria| Berenang|    Presiden|\n",
      "| Gema|  19|  Pria|Badminton|   Bos besar|\n",
      "| Adam|  28|  Pria| Billiard|Atlet Sukses|\n",
      "|  Ica|  37|Wanita|   Menari|  Programmer|\n",
      "+-----+----+------+---------+------------+\n",
      "\n"
     ]
    }
   ],
   "source": [
    "from pyspark.sql import SparkSession\n",
    "\n",
    "# Memulai Spark session\n",
    "spark = SparkSession.builder.appName(\"BigDataPractice\").getOrCreate()\n",
    "\n",
    "# Membuat DataFrame sederhana\n",
    "data = [(\"Gema\", 19, \"Pria\", \"Badminton\", \"Bos besar\"), (\"Akbar\", 12, \"Pria\", \"Berenang\", \"Presiden\"), (\"Adam\", 28, \"Pria\", \"Billiard\", \"Atlet Sukses\"), (\"Ica\", 37, \"Wanita\", \"Menari\", \"Programmer\"),]\n",
    "columns = [\"Nama\", \"Usia\", \"Gender\", \"Hobi\", \"Pekerjaan\"]\n",
    "df = spark.createDataFrame(data, columns)\n",
    "\n",
    "# Menampilkan DataFrame\n",
    "df.show()\n",
    "\n",
    "# Filtering data\n",
    "df_filtered = df.filter(df['Usia'] > 28)\n",
    "df_filtered.show()\n",
    "\n",
    "# Menghitung rata-rata usia\n",
    "from pyspark.sql.functions import avg\n",
    "df.groupBy().agg(avg(\"Usia\")).show()\n",
    "\n",
    "# Mengurutkan data berdasarkan usia\n",
    "df_sorted = df.orderBy(\"Usia\", ascending=True)\n",
    "df_sorted.show()"
   ]
  },
  {
   "cell_type": "markdown",
   "id": "28c91836-70b2-43d9-90e0-3a4a30bc5079",
   "metadata": {},
   "source": [
    "### 3. Praktik Dengan Pandas"
   ]
  },
  {
   "cell_type": "code",
   "execution_count": 4,
   "id": "3e37330b-7f42-4d21-94ff-195505ab4b9a",
   "metadata": {},
   "outputs": [
    {
     "data": {
      "text/html": [
       "<div>\n",
       "<style scoped>\n",
       "    .dataframe tbody tr th:only-of-type {\n",
       "        vertical-align: middle;\n",
       "    }\n",
       "\n",
       "    .dataframe tbody tr th {\n",
       "        vertical-align: top;\n",
       "    }\n",
       "\n",
       "    .dataframe thead th {\n",
       "        text-align: right;\n",
       "    }\n",
       "</style>\n",
       "<table border=\"1\" class=\"dataframe\">\n",
       "  <thead>\n",
       "    <tr style=\"text-align: right;\">\n",
       "      <th></th>\n",
       "      <th>Nama</th>\n",
       "      <th>Usia</th>\n",
       "      <th>Gender</th>\n",
       "      <th>Hobi</th>\n",
       "      <th>Pekerjaan</th>\n",
       "    </tr>\n",
       "  </thead>\n",
       "  <tbody>\n",
       "    <tr>\n",
       "      <th>0</th>\n",
       "      <td>Gema</td>\n",
       "      <td>19</td>\n",
       "      <td>Pria</td>\n",
       "      <td>Badmin</td>\n",
       "      <td>Bos Besar</td>\n",
       "    </tr>\n",
       "    <tr>\n",
       "      <th>1</th>\n",
       "      <td>Akbar</td>\n",
       "      <td>12</td>\n",
       "      <td>pria</td>\n",
       "      <td>Berenang</td>\n",
       "      <td>Presiden</td>\n",
       "    </tr>\n",
       "    <tr>\n",
       "      <th>2</th>\n",
       "      <td>Adam</td>\n",
       "      <td>28</td>\n",
       "      <td>Pria</td>\n",
       "      <td>Billiard</td>\n",
       "      <td>Atlet Sukses</td>\n",
       "    </tr>\n",
       "    <tr>\n",
       "      <th>3</th>\n",
       "      <td>Ica</td>\n",
       "      <td>37</td>\n",
       "      <td>Wanita</td>\n",
       "      <td>Menari</td>\n",
       "      <td>Programmer</td>\n",
       "    </tr>\n",
       "  </tbody>\n",
       "</table>\n",
       "</div>"
      ],
      "text/plain": [
       "    Nama  Usia  Gender      Hobi     Pekerjaan\n",
       "0   Gema    19    Pria    Badmin     Bos Besar\n",
       "1  Akbar    12    pria  Berenang      Presiden\n",
       "2   Adam    28    Pria  Billiard  Atlet Sukses\n",
       "3    Ica    37  Wanita    Menari    Programmer"
      ]
     },
     "execution_count": 4,
     "metadata": {},
     "output_type": "execute_result"
    }
   ],
   "source": [
    "import pandas as pd\n",
    "\n",
    "# Membuat DataFrame Pandas\n",
    "data_pandas = {\"Nama\" : [\"Gema\", \"Akbar\", \"Adam\", \"Ica\"], \"Usia\" : [19, 12, 28, 37], \"Gender\": [\"Pria\", \"pria\", \"Pria\", \"Wanita\"], \"Hobi\": [\"Badmin\", \"Berenang\", \"Billiard\", \"Menari\"], \"Pekerjaan\": [\"Bos Besar\", \"Presiden\", \"Atlet Sukses\", \"Programmer\"]}\n",
    "df_pandas = pd.DataFrame(data_pandas)\n",
    "\n",
    "# Menampilkan DataFrame Pandas\n",
    "df_pandas"
   ]
  },
  {
   "cell_type": "markdown",
   "id": "e1932e68-cd0b-49e9-ad25-081630a0e611",
   "metadata": {},
   "source": [
    "### 4. Praktik Pandas Lanjutan"
   ]
  },
  {
   "cell_type": "code",
   "execution_count": 5,
   "id": "ecd2c9bb-40a7-47b0-afcc-c30560e939c8",
   "metadata": {},
   "outputs": [
    {
     "name": "stdout",
     "output_type": "stream",
     "text": [
      "    Nama  Usia  Gender      Hobi     Pekerjaan\n",
      "0   Gema    19    Pria    Badmin     Bos Besar\n",
      "1  Akbar    12    pria  Berenang      Presiden\n",
      "2   Adam    28    Pria  Billiard  Atlet Sukses\n",
      "3    Ica    37  Wanita    Menari    Programmer\n",
      "           Usia\n",
      "count   4.00000\n",
      "mean   24.00000\n",
      "std    10.86278\n",
      "min    12.00000\n",
      "25%    17.25000\n",
      "50%    23.50000\n",
      "75%    30.25000\n",
      "max    37.00000\n"
     ]
    },
    {
     "data": {
      "image/png": "[encoded data removed]",
      "text/plain": [
       "<Figure size 640x480 with 1 Axes>"
      ]
     },
     "metadata": {},
     "output_type": "display_data"
    }
   ],
   "source": [
    "import pandas as pd\n",
    "\n",
    "# Membuat dataFrame Pandas pertama\n",
    "data_pandas = {\"Nama\" : [\"Gema\", \"Akbar\", \"Adam\", \"Ica\"], \"Usia\" : [19, 12, 28, 37], \"Gender\": [\"Pria\", \"pria\", \"Pria\", \"Wanita\"]}\n",
    "df_pandas = pd.DataFrame(data_pandas)\n",
    "\n",
    "# Membuat DataFrame Pandas Kedua\n",
    "data_pandas_2 = {\"Nama\" : [\"Gema\", \"Akbar\", \"Adam\", \"Ica\"], \"Hobi\": [\"Badmin\", \"Berenang\", \"Billiard\", \"Menari\"], \"Pekerjaan\": [\"Bos Besar\", \"Presiden\", \"Atlet Sukses\", \"Programmer\"]}\n",
    "df_pandas_2 = pd.DataFrame(data_pandas_2)\n",
    "\n",
    "# Join/gabungkan antara dua dataframe\n",
    "df_joined = pd.merge(df_pandas, df_pandas_2, on=\"Nama\")\n",
    "print(df_joined)\n",
    "\n",
    "# Mengitung statistik deskriptif\n",
    "print(df_pandas.describe())\n",
    "\n",
    "# Plotting data\n",
    "import matplotlib.pyplot as plt\n",
    "df_pandas['Usia'].plot(kind='bar')\n",
    "plt.show()"
   ]
  },
  {
   "cell_type": "markdown",
   "id": "8225214f-8d2c-4eab-81ea-3b97de0053fd",
   "metadata": {},
   "source": [
    "### 5. Menggabungkan Pyspark dan Pandas"
   ]
  },
  {
   "cell_type": "code",
   "execution_count": 6,
   "id": "7c0286fe-86fe-4ce9-9340-6a2bd4f2dec4",
   "metadata": {},
   "outputs": [
    {
     "name": "stdout",
     "output_type": "stream",
     "text": [
      "+-----+----+------+\n",
      "| Nama|Usia|Gender|\n",
      "+-----+----+------+\n",
      "| Gema|  19|  Pria|\n",
      "|Akbar|  12|  pria|\n",
      "| Adam|  28|  Pria|\n",
      "|  Ica|  37|Wanita|\n",
      "+-----+----+------+\n",
      "\n"
     ]
    },
    {
     "data": {
      "text/plain": [
       "(    Nama  Usia  Gender       Hobi     Pekerjaan\n",
       " 0   Gema    19    Pria  Badminton     Bos besar\n",
       " 1  Akbar    12    Pria   Berenang      Presiden\n",
       " 2   Adam    28    Pria   Billiard  Atlet Sukses\n",
       " 3    Ica    37  Wanita     Menari    Programmer,\n",
       " None)"
      ]
     },
     "execution_count": 6,
     "metadata": {},
     "output_type": "execute_result"
    }
   ],
   "source": [
    "# Mengonversi DataFrame dari pyspark ke pandas\n",
    "df_pandas_from_spark = df.toPandas()\n",
    "\n",
    "# Mengonversi Dataframe dari pandas ke pyspark\n",
    "df_spark_from_pandas = spark.createDataFrame(df_pandas)\n",
    "\n",
    "# Menampilkan DataFrame hasil Konversi\n",
    "df_pandas_from_spark, df_spark_from_pandas.show()"
   ]
  },
  {
   "cell_type": "markdown",
   "id": "c5913c97-ac22-4acc-a8bb-c46508d2c7f0",
   "metadata": {},
   "source": [
    "Tugas 5: Gunakan metode ini untuk menggabungkan data yang Anda buat di PySpark dengan data dari Pandas, kemudian lakukan analisis sederhana seperti menghitung rata-rata usia."
   ]
  },
  {
   "cell_type": "code",
   "execution_count": 15,
   "id": "d89a0a29-e55b-4f13-8a4e-b084f8b3f1ca",
   "metadata": {},
   "outputs": [
    {
     "name": "stdout",
     "output_type": "stream",
     "text": [
      "    Nama  Usia  Gender       Hobi     Pekerjaan         Status\n",
      "0   Gema    19    Pria  Badminton     Bos besar  belum menikah\n",
      "1  Akbar    12    Pria   Berenang      Presiden  belum menikah\n",
      "2   Adam    28    Pria   Billiard  Atlet Sukses        menikah\n",
      "3    Ica    37  Wanita     Menari    Programmer        menikah\n",
      "+---------+\n",
      "|avg(Usia)|\n",
      "+---------+\n",
      "|     24.0|\n",
      "+---------+\n",
      "\n"
     ]
    }
   ],
   "source": [
    "import pandas as pd\n",
    "# mengonversi dataframe dari pyspark ke pandas\n",
    "df_pandas_from_spark = df.toPandas()\n",
    "\n",
    "# membuat dataframe pandas \n",
    "data_pandas = {\"Nama\" : [\"Gema\", \"Akbar\", \"Adam\", \"Ica\"], \"Status\" : [\"belum menikah\", \"belum menikah\", \"menikah\", \"menikah\"]}\n",
    "df_pandas = pd.DataFrame(data_pandas)\n",
    "\n",
    "# Menggabungkan kedua dataframe\n",
    "df_joined = pd.merge(df_pandas_from_spark, df_pandas, on=\"Nama\")\n",
    "print(df_joined)\n",
    "\n",
    "# mengihtung rata rata usia\n",
    "from pyspark.sql.functions import avg\n",
    "df.groupBy().agg(avg(\"Usia\")).show()"
   ]
  },
  {
   "cell_type": "markdown",
   "id": "299331ca-2928-42c0-afb0-731eb00f5e0e",
   "metadata": {},
   "source": [
    "### 6. Konversi Data antara Pyspark dan pandas"
   ]
  },
  {
   "cell_type": "code",
   "execution_count": 7,
   "id": "0d4eb727-c880-4c06-a630-19abc46e6f80",
   "metadata": {},
   "outputs": [
    {
     "name": "stdout",
     "output_type": "stream",
     "text": [
      "+-----+----+------+\n",
      "| Nama|Usia|Gender|\n",
      "+-----+----+------+\n",
      "| Gema|  19|  Pria|\n",
      "|Akbar|  12|  pria|\n",
      "| Adam|  28|  Pria|\n",
      "|  Ica|  37|Wanita|\n",
      "+-----+----+------+\n",
      "\n"
     ]
    },
    {
     "data": {
      "text/plain": [
       "(    Nama  Usia  Gender       Hobi     Pekerjaan\n",
       " 0   Gema    19    Pria  Badminton     Bos besar\n",
       " 1  Akbar    12    Pria   Berenang      Presiden\n",
       " 2   Adam    28    Pria   Billiard  Atlet Sukses\n",
       " 3    Ica    37  Wanita     Menari    Programmer,\n",
       " None)"
      ]
     },
     "execution_count": 7,
     "metadata": {},
     "output_type": "execute_result"
    }
   ],
   "source": [
    "# Mengonversi DataFrame dari PySpark ke Pandas\n",
    "df_pandas_from_spark = df.toPandas()\n",
    "\n",
    "# Mengonversi DataFrame dari Pandas ke PySpark\n",
    "df_spark_from_pandas = spark.createDataFrame(df_pandas)\n",
    "\n",
    "# Menampilkan DataFrame hasil konversi\n",
    "df_pandas_from_spark, df_spark_from_pandas.show()"
   ]
  },
  {
   "cell_type": "markdown",
   "id": "d178cd2a-3ad3-4275-ac30-925728df698d",
   "metadata": {},
   "source": [
    "Tugas 6: Gabungkan data dari PySpark dan Pandas, lalu lakukan operasi statistik seperti menghitung nilai maksimum usia."
   ]
  },
  {
   "cell_type": "code",
   "execution_count": 16,
   "id": "12424ee8-7f35-4868-9844-fa6606eef1a8",
   "metadata": {},
   "outputs": [
    {
     "name": "stdout",
     "output_type": "stream",
     "text": [
      "    Nama  Usia  Gender       Hobi     Pekerjaan         Status\n",
      "0   Gema    19    Pria  Badminton     Bos besar  belum menikah\n",
      "1  Akbar    12    Pria   Berenang      Presiden  belum menikah\n",
      "2   Adam    28    Pria   Billiard  Atlet Sukses        menikah\n",
      "3    Ica    37  Wanita     Menari    Programmer        menikah\n",
      "\n",
      "Nilai Maksimum Usia:  37\n"
     ]
    }
   ],
   "source": [
    "import pandas as pd\n",
    "# mengonversi dataframe dari pyspark ke pandas\n",
    "df_pandas_from_spark = df.toPandas()\n",
    "\n",
    "# Menggabungkan kedua dataframe\n",
    "df_joined = pd.merge(df_pandas_from_spark, df_pandas, on=\"Nama\")\n",
    "print(df_joined)\n",
    "\n",
    "# menghitung nilai maksimum usia\n",
    "max_usia = df_joined['Usia'].max()\n",
    "print (\"\\nNilai Maksimum Usia: \", max_usia)\n"
   ]
  },
  {
   "cell_type": "code",
   "execution_count": null,
   "id": "c71507cb-d9dc-4f7f-b55e-b91cc6eaa120",
   "metadata": {},
   "outputs": [],
   "source": []
  }
 ],
 "metadata": {
  "kernelspec": {
   "display_name": "Python 3 (ipykernel)",
   "language": "python",
   "name": "python3"
  },
  "language_info": {
   "codemirror_mode": {
    "name": "ipython",
    "version": 3
   },
   "file_extension": ".py",
   "mimetype": "text/x-python",
   "name": "python",
   "nbconvert_exporter": "python",
   "pygments_lexer": "ipython3",
   "version": "3.11.9"
  }
 },
 "nbformat": 4,
 "nbformat_minor": 5
}
